{
 "cells": [
  {
   "cell_type": "markdown",
   "metadata": {},
   "source": [
    "# 과일 이미지 분류기\n",
    "\n",
    "\n",
    "이번 문제는 12개의 과일들로 구성된 2,700개의 이미지들로부터 과일 이미지 분류기를 만들어 900개의 테스트 이미지에 적용해보는 것이다. 다음과 같은 총 12개의 과일 이미지를 대상으로 한다.\n",
    "\n",
    "* Apple\n",
    "* Avocado\n",
    "* Banana\n",
    "* Blueberry\n",
    "* Lemon\n",
    "* Mango\n",
    "* Orange\n",
    "* Peach\n",
    "* Pineapple\n",
    "* Sweetpotato\n",
    "* Strawberry\n",
    "* Tomato\n",
    "\n",
    "훈련과 테스트를 위한 이미지들은 파일로 제공된다. 즉 이미지 파일들을 읽어 들여서 전처리하는 과정이 필요하다. \n",
    "\n",
    "### 데이터 셋 설명\n",
    "\n",
    "이번 문제에 사용된 과일 이미지들을 일부 살펴보면 아래와 같다. 앞서 설명된 것처럼 12개의 과일 이미지들로 구성되어 있다. 각 이미지들은 모두 100 * 100의 크기로 구성된다. 아래 예를 들었다.\n",
    "\n",
    "![image1.png](https://grepp-programmers.s3.ap-northeast-2.amazonaws.com/files/production/cd5aef6b-2d95-4009-a7eb-7eadef37dc98/image1.png)\n",
    "\n",
    "data 폴더를 열면 아래와 같은 파일들을 볼 수 있다:\n",
    "\n",
    "* training.csv\n",
    "* test.csv\n",
    "* Images 폴더: 3,600개의 이미지 파일들이 존재\n",
    "\n",
    "#### train.csv\n",
    "\n",
    "train.csv의 경우 헤더 라인 하나와 2,700개의 이미지 파일 이름으로 구성되어 있다. 하나의 라인은 하나의 훈련용 이미지에 해당하며 각 라인의 첫 번째 필드(filename)는 해당 훈련용 이미지의 파일 이름이 된다. 이 파일들은 images 폴더에 존재한다. 두 번째 필드(label)는 이미지 파일에 해당하는 과일의 이름이 된다. 과일 이름의 리스트는 앞서 문제 개요에서 확인해볼 수 있다. \n",
    "\n",
    "앞서 이야기했듯이 이미지의 픽셀 정보가 MNIST처럼 훈련용 데이터로 제공되지 않기 때문에 여러분들이 직접 이미지 파일을 읽어서 픽셀 데이터를 만들어내는 전처리 과정을 거쳐야 한다. 이미지 파일들은 images 폴더 안에 존재한다\n",
    "\n",
    "여러분이 해야 할 일은 이 파일들을 읽어 들이고 이 데이터를 바탕으로 앞의 필드에 주어진 과일을 예측하는 모델을 만드는 것이다. 예를 들어 이 파일의 처음 5라인을 보면 아래와 같다.\n",
    "\n",
    "| filename | label   |\n",
    "|----------|---------|\n",
    "| 0.jpg    | Apple   |\n",
    "| 1.jpg    | Avocado |\n",
    "| 2.jpg    | Tomato  |\n",
    "| 3.jpg    | Avocado |\n",
    "\n",
    "#### test.csv\n",
    "\n",
    "앞서 만든 모델로 풀어야 하는 문제들이 들어있는 파일들이 바로 test.csv이다. 이 파일의 구성은 앞서 train.csv와 비슷하게 하나의 헤더 라인(filename)과 900개의 이미지 파일 라인으로 구성되어있다. 이 두 파일의 차이점은 test.csv에는 이미지에 해당하는 과일이 없이 이미지 파일의 이름만 있다는 점이다. 처음 5줄은 다음과 같다.\n",
    "\n",
    "| filename |\n",
    "|----------|\n",
    "| 2700.jpg |\n",
    "| 2701.jpg |\n",
    "| 2702.jpg |\n",
    "| 2703.jpg |\n",
    "\n",
    "여러분이 앞서 훈련용 데이터로 모델을 만든 뒤에 할 일은 여기 있는 이미지 파일들을 읽어서 그걸 모델의 입력으로 주고 나오는 과일 예측값을 얻어내는 것이다. 이를 바탕으로 제출해야 할 파일의 포맷에 대해서 뒤에서 바로 설명한다.\n",
    "\n",
    "#### images 폴더\n",
    "\n",
    "이 폴더 안에는 모델 훈련에 필요한 2,700개의 과일 이미지와 나중에 훈련된 모델로 인식해서 인식 결과를 제출해야 하는 테스트 과일 이미지 900개가 존재한다. 앞서 이야기했듯이 이 이미지들은 모두 100 * 100의 크기를 갖는다. \n"
   ]
  },
  {
   "cell_type": "markdown",
   "metadata": {},
   "source": [
    "### 초기 코드 선택\n",
    "\n",
    "Python, R 중 본인의 선호 언어에 따라 초기 코드를 선택하세요. Python을 선호한다면 Python 초기 코드를, R을 선호한다면 R 초기 코드만 남기면 됩니다. 언어를 변경하는 방법이나 사용할 수 있는 라이브러리는 상단의 도움말 버튼에 나와있습니다.\n"
   ]
  },
  {
   "cell_type": "code",
   "execution_count": 1,
   "metadata": {},
   "outputs": [
    {
     "data": {
      "text/html": [
       "<div>\n",
       "<style scoped>\n",
       "    .dataframe tbody tr th:only-of-type {\n",
       "        vertical-align: middle;\n",
       "    }\n",
       "\n",
       "    .dataframe tbody tr th {\n",
       "        vertical-align: top;\n",
       "    }\n",
       "\n",
       "    .dataframe thead th {\n",
       "        text-align: right;\n",
       "    }\n",
       "</style>\n",
       "<table border=\"1\" class=\"dataframe\">\n",
       "  <thead>\n",
       "    <tr style=\"text-align: right;\">\n",
       "      <th></th>\n",
       "      <th>filename</th>\n",
       "      <th>label</th>\n",
       "    </tr>\n",
       "  </thead>\n",
       "  <tbody>\n",
       "    <tr>\n",
       "      <th>0</th>\n",
       "      <td>0.jpg</td>\n",
       "      <td>Apple</td>\n",
       "    </tr>\n",
       "    <tr>\n",
       "      <th>1</th>\n",
       "      <td>1.jpg</td>\n",
       "      <td>Avocado</td>\n",
       "    </tr>\n",
       "    <tr>\n",
       "      <th>2</th>\n",
       "      <td>2.jpg</td>\n",
       "      <td>Tomato</td>\n",
       "    </tr>\n",
       "    <tr>\n",
       "      <th>3</th>\n",
       "      <td>3.jpg</td>\n",
       "      <td>Avocado</td>\n",
       "    </tr>\n",
       "    <tr>\n",
       "      <th>4</th>\n",
       "      <td>4.jpg</td>\n",
       "      <td>Sweetpotato</td>\n",
       "    </tr>\n",
       "  </tbody>\n",
       "</table>\n",
       "</div>"
      ],
      "text/plain": [
       "  filename        label\n",
       "0    0.jpg        Apple\n",
       "1    1.jpg      Avocado\n",
       "2    2.jpg       Tomato\n",
       "3    3.jpg      Avocado\n",
       "4    4.jpg  Sweetpotato"
      ]
     },
     "execution_count": 1,
     "metadata": {},
     "output_type": "execute_result"
    }
   ],
   "source": [
    "# 초기코드 - python\n",
    "import pandas as pd\n",
    "\n",
    "# 데이터 로드\n",
    "train = pd.read_csv('./data/train.csv')\n",
    "test = pd.read_csv('./data/test.csv')\n",
    "\n",
    "train.head()"
   ]
  },
  {
   "cell_type": "code",
   "execution_count": 7,
   "metadata": {},
   "outputs": [
    {
     "data": {
      "text/html": [
       "<div>\n",
       "<style scoped>\n",
       "    .dataframe tbody tr th:only-of-type {\n",
       "        vertical-align: middle;\n",
       "    }\n",
       "\n",
       "    .dataframe tbody tr th {\n",
       "        vertical-align: top;\n",
       "    }\n",
       "\n",
       "    .dataframe thead th {\n",
       "        text-align: right;\n",
       "    }\n",
       "</style>\n",
       "<table border=\"1\" class=\"dataframe\">\n",
       "  <thead>\n",
       "    <tr style=\"text-align: right;\">\n",
       "      <th></th>\n",
       "      <th>filename</th>\n",
       "    </tr>\n",
       "  </thead>\n",
       "  <tbody>\n",
       "    <tr>\n",
       "      <th>0</th>\n",
       "      <td>2700.jpg</td>\n",
       "    </tr>\n",
       "    <tr>\n",
       "      <th>1</th>\n",
       "      <td>2701.jpg</td>\n",
       "    </tr>\n",
       "    <tr>\n",
       "      <th>2</th>\n",
       "      <td>2702.jpg</td>\n",
       "    </tr>\n",
       "    <tr>\n",
       "      <th>3</th>\n",
       "      <td>2703.jpg</td>\n",
       "    </tr>\n",
       "    <tr>\n",
       "      <th>4</th>\n",
       "      <td>2704.jpg</td>\n",
       "    </tr>\n",
       "  </tbody>\n",
       "</table>\n",
       "</div>"
      ],
      "text/plain": [
       "   filename\n",
       "0  2700.jpg\n",
       "1  2701.jpg\n",
       "2  2702.jpg\n",
       "3  2703.jpg\n",
       "4  2704.jpg"
      ]
     },
     "execution_count": 7,
     "metadata": {},
     "output_type": "execute_result"
    }
   ],
   "source": [
    "test.head()"
   ]
  },
  {
   "cell_type": "markdown",
   "metadata": {},
   "source": [
    "# 과제\n",
    "\n",
    "채점을 위해 다음을 만족하는 csv파일을 현재 디렉토리에 `submission.csv`라는 이름으로 저장해야 한다. `submission.csv`는 `test.csv`와 같은 수의 라인으로 구성이 되어야 하며 첫 번째 라인(헤더)은 다음과 같은 두 개의 필드로 구성이 되어야 한다:\n",
    " \n",
    "* filename\n",
    "* prediction\n",
    "\n",
    "먼저 첫 번째 컬럼으로 들어오는 filename은 `test.csv`에 들어오는 값들이 그대로 들어와야 한다. 두 번째 컬럼은 여러분이 훈련한 모델에 두 번째 컬럼에 해당하는 이미지 파일을 입력으로 주었을 때 나오는 과일 예측값을 넣어주어야 한다 (즉 앞서 12개의 과일 중의 하나가 되어야 하며 `train.csv`에 있는 label 필드에 있는 값들을 사용한다).\n",
    "\n",
    "예를 들어 `test.csv`의 처음 다섯 라인이 아래와 같다면 \n",
    "\n",
    "| filename |\n",
    "|----------|\n",
    "| 2700.jpg |\n",
    "| 2701.jpg |\n",
    "| 2702.jpg |\n",
    "| 2703.jpg |\n",
    "\n",
    "\n",
    "`submission.csv`의 filename 필드는 `test.csv`의 filename 순으로 나와야 하며, prediction필드의 값으로는 해당 과일 이미지의 인식 결과가 사용되어야 한다. 앞서 예로 사용한 `test.csv`에 해당하는 최종 제출 파일은 아래와 같은 형태를 갖추어야 한다.\n",
    "\n",
    "| filename | prediction |\n",
    "|----------|------------|\n",
    "| 2700.jpg | Apple      |\n",
    "| 2701.jpg | Avocado    |\n",
    "| 2702.jpg | Lemon      |\n",
    "| 2703.jpg | Peach      |\n",
    "\n"
   ]
  },
  {
   "cell_type": "code",
   "execution_count": 50,
   "metadata": {},
   "outputs": [],
   "source": [
    "import numpy as np\n",
    "import os\n",
    "import glob\n",
    "\n",
    "img_dir = glob.glob(img_dir)\n",
    "\n",
    "n_classes = 12"
   ]
  },
  {
   "cell_type": "code",
   "execution_count": 140,
   "metadata": {},
   "outputs": [
    {
     "data": {
      "text/plain": [
       "(2700, 100, 100, 3)"
      ]
     },
     "execution_count": 140,
     "metadata": {},
     "output_type": "execute_result"
    }
   ],
   "source": [
    "from PIL import Image\n",
    "from sklearn.preprocessing import StandardScaler\n",
    "X = []\n",
    "y = []\n",
    "for i in img_dir:\n",
    "    img = Image.open(i)\n",
    "    data = np.asarray(img)\n",
    "    name = os.path.basename(i)\n",
    "    name = name.replace('.jpg','')\n",
    "    name = int(name)\n",
    "    if name <2700:\n",
    "        label = train.loc[name,'label']\n",
    "        X.append(data)\n",
    "        y.append(label)\n",
    "np.shape(X)"
   ]
  },
  {
   "cell_type": "raw",
   "metadata": {},
   "source": [
    "from keras.models import Sequential\n",
    "import tensorflow as tf\n",
    "from tensorflow import keras\n",
    "from tensorflow.keras import layers\n",
    "\n",
    "# from keras.layers import Conv2D, MaxPooling2D, Dense, Flatten, Dropout\n",
    "from keras.callbacks import EarlyStopping, ModelCheckpoint\n",
    "\n",
    "from tensorflow.keras.layers import InputLayer\n",
    "\n",
    "board_inputs = tf.reshape(X, tf.stack([ -1 , 100,100,3]))\n",
    "\n",
    "\n",
    "conv1 = layers.Conv2D(32, (3,3), padding='same', input_shape=(100,100,3),activation = 'relu')\n",
    "conv2 = layers.Conv2D(3, 3, activation='relu')\n",
    "pooling = layers.MaxPooling2D(pool_size=(2, 2))\n",
    "\n",
    "model = Sequential()\n",
    "model.add(InputLayer(input_shape=board_inputs))\n",
    "model.add(layers.Conv2D(32, (3,3), padding='same', input_shape=(100,100,3),activation = 'relu'))\n",
    "model.add(pooling)\n",
    "\n",
    "model.add(conv2)\n",
    "model.add(pooling)\n",
    "\n",
    "model.add(flatten)\n",
    "model.add(Dense(256, activation='relu'))\n",
    "model.add(Dense(n_classes, activation='softmax'))\n",
    "\n",
    "model.compile(loss='binary_crossentropy', optimizer='adam', metrics=['accuracy'])\n",
    "\n",
    "model.fit(X,y,epochs=5)"
   ]
  },
  {
   "cell_type": "code",
   "execution_count": 162,
   "metadata": {},
   "outputs": [
    {
     "data": {
      "text/plain": [
       "(900, 100, 100, 3)"
      ]
     },
     "execution_count": 162,
     "metadata": {},
     "output_type": "execute_result"
    }
   ],
   "source": [
    "X_test = []\n",
    "for i in img_dir:\n",
    "    img = Image.open(i)\n",
    "    data = np.asarray(img)\n",
    "    name = os.path.basename(i)\n",
    "    name = name.replace('.jpg','')\n",
    "    name = int(name)\n",
    "    if name >=2700:\n",
    "        X_test.append(data)\n",
    "np.shape(X_test)\n",
    "\n",
    "test_input = tf.reshape(X_test, tf.stack([ -1 , 100,100,3]))\n",
    "predictions = model.predict(test_input)"
   ]
  },
  {
   "cell_type": "code",
   "execution_count": null,
   "metadata": {},
   "outputs": [],
   "source": [
    "# csv 파일 저장 예시 - python\n",
    "test['label'] = result\n",
    "test.set_index('filename')\n",
    "test.to_csv('submission.csv',index=False)"
   ]
  }
 ],
 "metadata": {
  "kernelspec": {
   "display_name": "Python 3",
   "language": "python",
   "name": "python3"
  },
  "language_info": {
   "codemirror_mode": {
    "name": "ipython",
    "version": 3
   },
   "file_extension": ".py",
   "mimetype": "text/x-python",
   "name": "python",
   "nbconvert_exporter": "python",
   "pygments_lexer": "ipython3",
   "version": "3.7.4"
  }
 },
 "nbformat": 4,
 "nbformat_minor": 2
}
