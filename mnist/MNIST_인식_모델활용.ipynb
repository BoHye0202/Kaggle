{
  "nbformat": 4,
  "nbformat_minor": 0,
  "metadata": {
    "colab": {
      "name": "MNIST 인식_모델활용.ipynb",
      "provenance": [],
      "authorship_tag": "ABX9TyMUfwzQyCtodq6uR0oDze3n",
      "include_colab_link": true
    },
    "kernelspec": {
      "name": "python3",
      "display_name": "Python 3"
    },
    "language_info": {
      "name": "python"
    }
  },
  "cells": [
    {
      "cell_type": "markdown",
      "metadata": {
        "id": "view-in-github",
        "colab_type": "text"
      },
      "source": [
        "<a href=\"https://colab.research.google.com/github/BoHye0202/Kaggle/blob/main/mnist/MNIST_%EC%9D%B8%EC%8B%9D_%EB%AA%A8%EB%8D%B8%ED%99%9C%EC%9A%A9.ipynb\" target=\"_parent\"><img src=\"https://colab.research.google.com/assets/colab-badge.svg\" alt=\"Open In Colab\"/></a>"
      ]
    },
    {
      "cell_type": "markdown",
      "metadata": {
        "id": "Jv_j1-oT3rVQ"
      },
      "source": [
        "# 학습 완료된 모델을 사용하여 실제 손글씨를 인식하기"
      ]
    },
    {
      "cell_type": "code",
      "metadata": {
        "id": "oX3CPkYO3mbs"
      },
      "source": [
        "import cv2 as cv\n",
        "from google.colab.patches import cv2_imshow # colab\n",
        "import numpy as np\n",
        "from tensorflow.keras.models import load_model"
      ],
      "execution_count": 1,
      "outputs": []
    },
    {
      "cell_type": "markdown",
      "metadata": {
        "id": "bIzWzhGM4w4v"
      },
      "source": [
        "## RGB to Gray"
      ]
    },
    {
      "cell_type": "code",
      "metadata": {
        "id": "nDgnP8OR34nu"
      },
      "source": [
        "img_color = cv.imread('number.png', cv.IMREAD_COLOR) # 이미지파일 불러오기\n",
        "img_gray = cv.cvtColor(img_color, cv.COLOR_BGR2GRAY) # gray스케일로 변환하기"
      ],
      "execution_count": 2,
      "outputs": []
    },
    {
      "cell_type": "markdown",
      "metadata": {
        "id": "b1RMKWMU4-nv"
      },
      "source": [
        "## Gray to Binary\n",
        "- 그레이스케일 이미지를 이진화하여 바이너리 이미지로 변환\n",
        "- 모폴로지 연산을 적용하여 이진화 결과로 생겼을지 모를 빈 공백을 메꾸기\n"
      ]
    },
    {
      "cell_type": "code",
      "metadata": {
        "colab": {
          "base_uri": "https://localhost:8080/",
          "height": 472
        },
        "id": "dDVxzZ-j4S_k",
        "outputId": "fc35a7b6-21ae-414c-a7e0-3aadb6e6465c"
      },
      "source": [
        "ret, img_binary = cv.threshold(img_gray, 0, 255, cv.THRESH_BINARY_INV | cv.THRESH_OTSU)\n",
        "\n",
        "# 모폴로지 연산 수행\n",
        "kernel = cv.getStructuringElement(cv.MORPH_RECT, (5,5))\n",
        "img_binary = cv.morphologyEx(img_binary, cv.MORPH_CLOSE, kernel) # 모폴로지 연산을 적용\n",
        "\n",
        "cv2_imshow(img_binary)\n",
        "cv.waitKey(0);"
      ],
      "execution_count": 3,
      "outputs": [
        {
          "output_type": "display_data",
          "data": {
            "image/png": "[encoded data removed]",
            "text/plain": [
              "<PIL.Image.Image image mode=L size=920x512 at 0x7F2DAAF78910>"
            ]
          },
          "metadata": {
            "tags": []
          }
        }
      ]
    },
    {
      "cell_type": "markdown",
      "metadata": {
        "id": "BJFxukqI5fl7"
      },
      "source": [
        "## Contour\n",
        "숫자별로 분리하기 위해서 컨투어 작업"
      ]
    },
    {
      "cell_type": "code",
      "metadata": {
        "id": "yLO-0FQ64uqu"
      },
      "source": [
        "contours, hierarchy = cv.findContours(img_binary, cv.RETR_EXTERNAL, \n",
        "                                      cv.CHAIN_APPROX_SIMPLE)"
      ],
      "execution_count": 4,
      "outputs": []
    },
    {
      "cell_type": "markdown",
      "metadata": {
        "id": "1668imBX80n6"
      },
      "source": [
        "## Model에 적용하기"
      ]
    },
    {
      "cell_type": "code",
      "metadata": {
        "colab": {
          "base_uri": "https://localhost:8080/",
          "height": 518
        },
        "id": "MVzkEoYd8zwK",
        "outputId": "0ce48b02-3dc4-4eeb-9a2f-b5707ab1e0a0"
      },
      "source": [
        "for contour in contours:\n",
        "  x,y,w,h = cv.boundingRect(contour) # 숫자별로 경계박스 구하기\n",
        "\n",
        "  length = max(w,h) * 60 # 가로, 세로 중 긴 방향에서 여분을 추가하여 한변의 크기\n",
        "  img_digit = np.zeros((length, length, 1), np.uint8) # 잘라낸 숫자 이미지를 저장할 빈 이미지 생성\n",
        "  \n",
        "  new_x, new_y = x-(length - w)//2, y-(length - h)//2 # 숫자가 이미지 정중앙에 오도록 경계박스의 시작 위치 조정\n",
        "  \n",
        "  img_digit = img_binary[new_y:new_y+length, new_x:new_x+length] # 바이너리 이미지에서 숫자영역은 img_digit에 저장\n",
        "\n",
        "  # 숫자가 잘 인식되도록 팽창 모폴로지 연산 적용 \n",
        "  kernel = np.ones((5, 5), np.uint8)\n",
        "  img_digit = cv.morphologyEx(img_digit, cv.MORPH_DILATE, kernel)\n",
        "\n",
        "  cv2_imshow(img_digit)\n",
        "  cv.waitKey(0)\n",
        "\n",
        "  model = load_model('mnist_model.h5') # 모델 불러오기\n",
        "\n",
        "  img_digit = cv.resize(img_digit, (28, 28), interpolation=cv.INTER_AREA) # 모델에서 요구하는 이미지크기로 만들기\n",
        "\n",
        "  img_digit = img_digit / 255.0 # 이미지 normalization\n",
        "\n",
        "  img_input = img_digit.reshape(1, 28, 28, 1) # 모델에서 요구하는 input shape\n",
        "  predictions = model.predict(img_input) # 모델 사용해서 예측하기\n",
        "\n",
        "  number = np.argmax(predictions) # softmax결과를 숫자로 변환 model = load_model('model.h5') # 모델 불러오기\n",
        "  print(number)\n",
        "\n",
        "  cv.rectangle(img_color, (x, y), (x+w, y+h), (255, 255, 0), 2) # 원본이미지의 숫자마다 사각형 그려주기\n",
        "  \n",
        "  # 이미지에 있는 숫자위에 인식된 숫자 적어주기 \n",
        "  location = (x + int(w *0.5), y - 10)\n",
        "  font = cv.FONT_HERSHEY_COMPLEX  \n",
        "  fontScale = 1.2\n",
        "  cv.putText(img_color, str(number), location, font, fontScale, (0,255,0), 2)\n",
        "  \n",
        "  # 이미지에서 잘라낸 숫자부분을 가공한 결과를 보여줍니다.\n",
        "  cv2_imshow(img_digit)\n",
        "  cv.waitKey(0)"
      ],
      "execution_count": 5,
      "outputs": [
        {
          "output_type": "display_data",
          "data": {
            "image/png": "[encoded data removed]",
            "text/plain": [
              "<PIL.Image.Image image mode=L size=920x512 at 0x7F2D6F308710>"
            ]
          },
          "metadata": {
            "tags": []
          }
        },
        {
          "output_type": "stream",
          "text": [
            "2\n"
          ],
          "name": "stdout"
        },
        {
          "output_type": "display_data",
          "data": {
            "image/png": "[encoded data removed]",
            "text/plain": [
              "<PIL.Image.Image image mode=L size=28x28 at 0x7F2D6A9836D0>"
            ]
          },
          "metadata": {
            "tags": []
          }
        }
      ]
    },
    {
      "cell_type": "code",
      "metadata": {
        "colab": {
          "base_uri": "https://localhost:8080/",
          "height": 472
        },
        "id": "JtTy_YG59lI2",
        "outputId": "6137241a-8180-4ecf-d5ca-76678d0cb3ee"
      },
      "source": [
        "# 원본 이미지에 인식한 숫자를 적은 결과 보여주기\n",
        "result = cv2_imshow(img_color)"
      ],
      "execution_count": 6,
      "outputs": [
        {
          "output_type": "display_data",
          "data": {
            "image/png": "[encoded data removed]",
            "text/plain": [
              "<PIL.Image.Image image mode=RGB size=920x512 at 0x7F2DB8A84CD0>"
            ]
          },
          "metadata": {
            "tags": []
          }
        }
      ]
    },
    {
      "cell_type": "code",
      "metadata": {
        "id": "XEkLZGkl-GJu"
      },
      "source": [
        ""
      ],
      "execution_count": 6,
      "outputs": []
    }
  ]
}